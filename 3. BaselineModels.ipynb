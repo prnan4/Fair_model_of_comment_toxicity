{
 "cells": [
  {
   "cell_type": "code",
   "execution_count": 1,
   "metadata": {
    "colab": {
     "base_uri": "https://localhost:8080/"
    },
    "executionInfo": {
     "elapsed": 1312,
     "status": "ok",
     "timestamp": 1671230044709,
     "user": {
      "displayName": "Arundhati Gorkhe",
      "userId": "04259180023704255453"
     },
     "user_tz": 300
    },
    "id": "Oh71mo6ebtdJ",
    "outputId": "31d922f5-4b1d-4c59-8d36-c1d48ae769bb"
   },
   "outputs": [
    {
     "ename": "ModuleNotFoundError",
     "evalue": "No module named 'google.colab'",
     "output_type": "error",
     "traceback": [
      "\u001b[0;31m---------------------------------------------------------------------------\u001b[0m",
      "\u001b[0;31mModuleNotFoundError\u001b[0m                       Traceback (most recent call last)",
      "\u001b[0;32m<ipython-input-1-d5df0069828e>\u001b[0m in \u001b[0;36m<module>\u001b[0;34m\u001b[0m\n\u001b[0;32m----> 1\u001b[0;31m \u001b[0;32mfrom\u001b[0m \u001b[0mgoogle\u001b[0m\u001b[0;34m.\u001b[0m\u001b[0mcolab\u001b[0m \u001b[0;32mimport\u001b[0m \u001b[0mdrive\u001b[0m\u001b[0;34m\u001b[0m\u001b[0;34m\u001b[0m\u001b[0m\n\u001b[0m\u001b[1;32m      2\u001b[0m \u001b[0mdrive\u001b[0m\u001b[0;34m.\u001b[0m\u001b[0mmount\u001b[0m\u001b[0;34m(\u001b[0m\u001b[0;34m'/content/drive'\u001b[0m\u001b[0;34m)\u001b[0m\u001b[0;34m\u001b[0m\u001b[0;34m\u001b[0m\u001b[0m\n",
      "\u001b[0;31mModuleNotFoundError\u001b[0m: No module named 'google.colab'"
     ]
    }
   ],
   "source": [
    "from google.colab import drive\n",
    "drive.mount('/content/drive')"
   ]
  },
  {
   "cell_type": "code",
   "execution_count": 2,
   "metadata": {
    "colab": {
     "base_uri": "https://localhost:8080/"
    },
    "executionInfo": {
     "elapsed": 2,
     "status": "ok",
     "timestamp": 1671230045712,
     "user": {
      "displayName": "Arundhati Gorkhe",
      "userId": "04259180023704255453"
     },
     "user_tz": 300
    },
    "id": "EoNE-yvzwGIa",
    "outputId": "fe4a0e4c-25d9-4e65-bd21-e18f93510a81"
   },
   "outputs": [
    {
     "name": "stdout",
     "output_type": "stream",
     "text": [
      "[Errno 2] No such file or directory: '/content/drive/MyDrive/690F'\n",
      "/Users/arpita/Downloads\n"
     ]
    }
   ],
   "source": [
    "cd /content/drive/MyDrive/690F"
   ]
  },
  {
   "cell_type": "code",
   "execution_count": 1,
   "metadata": {
    "executionInfo": {
     "elapsed": 5,
     "status": "ok",
     "timestamp": 1671230047059,
     "user": {
      "displayName": "Arundhati Gorkhe",
      "userId": "04259180023704255453"
     },
     "user_tz": 300
    },
    "id": "5jhNHvAXb69D"
   },
   "outputs": [],
   "source": [
    "import string\n",
    "import numpy as np\n",
    "import pandas as pd\n",
    "from sklearn.model_selection import train_test_split\n",
    "from sklearn.feature_extraction.text import CountVectorizer\n",
    "from sklearn.metrics import accuracy_score, classification_report, confusion_matrix\n",
    "from sklearn.feature_extraction.text import TfidfVectorizer\n",
    "from sklearn.model_selection import GridSearchCV\n",
    "from sklearn.pipeline import Pipeline\n",
    "from sklearn.preprocessing import StandardScaler\n",
    "from sklearn.compose import ColumnTransformer\n",
    "from sklearn.linear_model import LogisticRegression\n",
    "from sklearn.naive_bayes import MultinomialNB\n",
    "import pickle\n",
    "from sklearn.model_selection import train_test_split"
   ]
  },
  {
   "cell_type": "code",
   "execution_count": 2,
   "metadata": {
    "executionInfo": {
     "elapsed": 23214,
     "status": "ok",
     "timestamp": 1671230072151,
     "user": {
      "displayName": "Arundhati Gorkhe",
      "userId": "04259180023704255453"
     },
     "user_tz": 300
    },
    "id": "b2KSLRj0b_Ao"
   },
   "outputs": [],
   "source": [
    "train_df = pd.read_csv(\"final_processed_train_data.csv\")"
   ]
  },
  {
   "cell_type": "code",
   "execution_count": 3,
   "metadata": {},
   "outputs": [
    {
     "data": {
      "text/plain": [
       "(1804475, 49)"
      ]
     },
     "execution_count": 3,
     "metadata": {},
     "output_type": "execute_result"
    }
   ],
   "source": [
    "train_df.shape"
   ]
  },
  {
   "cell_type": "code",
   "execution_count": 4,
   "metadata": {
    "colab": {
     "base_uri": "https://localhost:8080/",
     "height": 501
    },
    "executionInfo": {
     "elapsed": 1450,
     "status": "ok",
     "timestamp": 1671230073594,
     "user": {
      "displayName": "Arundhati Gorkhe",
      "userId": "04259180023704255453"
     },
     "user_tz": 300
    },
    "id": "ptoWTHjUcATg",
    "outputId": "36359b17-df9f-4c36-bd20-8c53d5ca4992"
   },
   "outputs": [
    {
     "data": {
      "text/html": [
       "<div>\n",
       "<style scoped>\n",
       "    .dataframe tbody tr th:only-of-type {\n",
       "        vertical-align: middle;\n",
       "    }\n",
       "\n",
       "    .dataframe tbody tr th {\n",
       "        vertical-align: top;\n",
       "    }\n",
       "\n",
       "    .dataframe thead th {\n",
       "        text-align: right;\n",
       "    }\n",
       "</style>\n",
       "<table border=\"1\" class=\"dataframe\">\n",
       "  <thead>\n",
       "    <tr style=\"text-align: right;\">\n",
       "      <th></th>\n",
       "      <th>id</th>\n",
       "      <th>target</th>\n",
       "      <th>comment_text</th>\n",
       "      <th>asian</th>\n",
       "      <th>atheist</th>\n",
       "      <th>bisexual</th>\n",
       "      <th>black</th>\n",
       "      <th>buddhist</th>\n",
       "      <th>christian</th>\n",
       "      <th>female</th>\n",
       "      <th>...</th>\n",
       "      <th>muslim</th>\n",
       "      <th>other_disability</th>\n",
       "      <th>other_gender</th>\n",
       "      <th>other_race_or_ethnicity</th>\n",
       "      <th>other_religion</th>\n",
       "      <th>other_sexual_orientation</th>\n",
       "      <th>physical_disability</th>\n",
       "      <th>psychiatric_or_mental_illness</th>\n",
       "      <th>transgender</th>\n",
       "      <th>white</th>\n",
       "    </tr>\n",
       "  </thead>\n",
       "  <tbody>\n",
       "    <tr>\n",
       "      <th>11</th>\n",
       "      <td>239579</td>\n",
       "      <td>0.4400</td>\n",
       "      <td>This great story Man I wonder person yelled sh...</td>\n",
       "      <td>0.0</td>\n",
       "      <td>0.0</td>\n",
       "      <td>0.0</td>\n",
       "      <td>0.0</td>\n",
       "      <td>0.0</td>\n",
       "      <td>0.0</td>\n",
       "      <td>0.0</td>\n",
       "      <td>...</td>\n",
       "      <td>0.0</td>\n",
       "      <td>0.0</td>\n",
       "      <td>0.0</td>\n",
       "      <td>0.0</td>\n",
       "      <td>0.0</td>\n",
       "      <td>0.0</td>\n",
       "      <td>0.0</td>\n",
       "      <td>0.0</td>\n",
       "      <td>0.0</td>\n",
       "      <td>0.0</td>\n",
       "    </tr>\n",
       "    <tr>\n",
       "      <th>31</th>\n",
       "      <td>239607</td>\n",
       "      <td>0.9125</td>\n",
       "      <td>Yet Muslims acts pilloried So okay smear entir...</td>\n",
       "      <td>0.0</td>\n",
       "      <td>0.0</td>\n",
       "      <td>0.0</td>\n",
       "      <td>0.0</td>\n",
       "      <td>0.0</td>\n",
       "      <td>1.0</td>\n",
       "      <td>0.0</td>\n",
       "      <td>...</td>\n",
       "      <td>1.0</td>\n",
       "      <td>0.0</td>\n",
       "      <td>0.0</td>\n",
       "      <td>0.0</td>\n",
       "      <td>0.0</td>\n",
       "      <td>0.0</td>\n",
       "      <td>0.0</td>\n",
       "      <td>0.0</td>\n",
       "      <td>0.0</td>\n",
       "      <td>0.0</td>\n",
       "    </tr>\n",
       "    <tr>\n",
       "      <th>51</th>\n",
       "      <td>239644</td>\n",
       "      <td>0.0000</td>\n",
       "      <td>Because people drive cars ones cause wear tear...</td>\n",
       "      <td>0.0</td>\n",
       "      <td>0.0</td>\n",
       "      <td>0.0</td>\n",
       "      <td>0.0</td>\n",
       "      <td>0.0</td>\n",
       "      <td>0.0</td>\n",
       "      <td>0.0</td>\n",
       "      <td>...</td>\n",
       "      <td>0.0</td>\n",
       "      <td>0.0</td>\n",
       "      <td>0.0</td>\n",
       "      <td>0.0</td>\n",
       "      <td>0.0</td>\n",
       "      <td>0.0</td>\n",
       "      <td>0.0</td>\n",
       "      <td>0.0</td>\n",
       "      <td>0.0</td>\n",
       "      <td>0.0</td>\n",
       "    </tr>\n",
       "    <tr>\n",
       "      <th>58</th>\n",
       "      <td>239653</td>\n",
       "      <td>0.3000</td>\n",
       "      <td>Mormons complicated relationship federal law</td>\n",
       "      <td>0.0</td>\n",
       "      <td>0.0</td>\n",
       "      <td>0.0</td>\n",
       "      <td>0.0</td>\n",
       "      <td>0.0</td>\n",
       "      <td>0.2</td>\n",
       "      <td>0.0</td>\n",
       "      <td>...</td>\n",
       "      <td>0.0</td>\n",
       "      <td>0.0</td>\n",
       "      <td>0.0</td>\n",
       "      <td>0.0</td>\n",
       "      <td>0.2</td>\n",
       "      <td>0.0</td>\n",
       "      <td>0.0</td>\n",
       "      <td>0.0</td>\n",
       "      <td>0.0</td>\n",
       "      <td>0.0</td>\n",
       "    </tr>\n",
       "    <tr>\n",
       "      <th>111</th>\n",
       "      <td>239744</td>\n",
       "      <td>0.0000</td>\n",
       "      <td>I thing</td>\n",
       "      <td>0.0</td>\n",
       "      <td>0.0</td>\n",
       "      <td>0.0</td>\n",
       "      <td>0.0</td>\n",
       "      <td>0.0</td>\n",
       "      <td>0.0</td>\n",
       "      <td>0.0</td>\n",
       "      <td>...</td>\n",
       "      <td>0.0</td>\n",
       "      <td>0.0</td>\n",
       "      <td>0.0</td>\n",
       "      <td>0.0</td>\n",
       "      <td>0.0</td>\n",
       "      <td>0.0</td>\n",
       "      <td>0.0</td>\n",
       "      <td>0.0</td>\n",
       "      <td>0.0</td>\n",
       "      <td>0.0</td>\n",
       "    </tr>\n",
       "  </tbody>\n",
       "</table>\n",
       "<p>5 rows × 27 columns</p>\n",
       "</div>"
      ],
      "text/plain": [
       "         id  target                                       comment_text  asian  \\\n",
       "11   239579  0.4400  This great story Man I wonder person yelled sh...    0.0   \n",
       "31   239607  0.9125  Yet Muslims acts pilloried So okay smear entir...    0.0   \n",
       "51   239644  0.0000  Because people drive cars ones cause wear tear...    0.0   \n",
       "58   239653  0.3000       Mormons complicated relationship federal law    0.0   \n",
       "111  239744  0.0000                                            I thing    0.0   \n",
       "\n",
       "     atheist  bisexual  black  buddhist  christian  female  ...  muslim  \\\n",
       "11       0.0       0.0    0.0       0.0        0.0     0.0  ...     0.0   \n",
       "31       0.0       0.0    0.0       0.0        1.0     0.0  ...     1.0   \n",
       "51       0.0       0.0    0.0       0.0        0.0     0.0  ...     0.0   \n",
       "58       0.0       0.0    0.0       0.0        0.2     0.0  ...     0.0   \n",
       "111      0.0       0.0    0.0       0.0        0.0     0.0  ...     0.0   \n",
       "\n",
       "     other_disability  other_gender  other_race_or_ethnicity  other_religion  \\\n",
       "11                0.0           0.0                      0.0             0.0   \n",
       "31                0.0           0.0                      0.0             0.0   \n",
       "51                0.0           0.0                      0.0             0.0   \n",
       "58                0.0           0.0                      0.0             0.2   \n",
       "111               0.0           0.0                      0.0             0.0   \n",
       "\n",
       "     other_sexual_orientation  physical_disability  \\\n",
       "11                        0.0                  0.0   \n",
       "31                        0.0                  0.0   \n",
       "51                        0.0                  0.0   \n",
       "58                        0.0                  0.0   \n",
       "111                       0.0                  0.0   \n",
       "\n",
       "     psychiatric_or_mental_illness  transgender  white  \n",
       "11                             0.0          0.0    0.0  \n",
       "31                             0.0          0.0    0.0  \n",
       "51                             0.0          0.0    0.0  \n",
       "58                             0.0          0.0    0.0  \n",
       "111                            0.0          0.0    0.0  \n",
       "\n",
       "[5 rows x 27 columns]"
      ]
     },
     "execution_count": 4,
     "metadata": {},
     "output_type": "execute_result"
    }
   ],
   "source": [
    "train_df.columns\n",
    "train_df.dropna(inplace = True)\n",
    "to_show = ['id', 'target',\n",
    "       'comment_text', 'asian', 'atheist', 'bisexual', 'black', 'buddhist',\n",
    "       'christian', 'female', 'heterosexual', 'hindu',\n",
    "       'homosexual_gay_or_lesbian', 'intellectual_or_learning_disability',\n",
    "       'jewish', 'latino', 'male', 'muslim', 'other_disability',\n",
    "       'other_gender', 'other_race_or_ethnicity', 'other_religion',\n",
    "       'other_sexual_orientation', 'physical_disability',\n",
    "       'psychiatric_or_mental_illness', 'transgender', 'white']\n",
    "train_df.head().loc[:, to_show]"
   ]
  },
  {
   "cell_type": "code",
   "execution_count": 5,
   "metadata": {
    "colab": {
     "base_uri": "https://localhost:8080/"
    },
    "executionInfo": {
     "elapsed": 4738,
     "status": "ok",
     "timestamp": 1671223795907,
     "user": {
      "displayName": "Arunima Sundar",
      "userId": "06679868028950565332"
     },
     "user_tz": 300
    },
    "id": "L8irM-pUcTpS",
    "outputId": "2d7f7722-ec14-4058-a1aa-393a7b85f470"
   },
   "outputs": [],
   "source": [
    "# # train_df = train_df_whole.sample(n=5000, random_state=1)\n",
    "# train_df = pd.read_csv(\"processed_train_df.csv\")\n",
    "# print(len(train_df))"
   ]
  },
  {
   "cell_type": "code",
   "execution_count": 6,
   "metadata": {
    "executionInfo": {
     "elapsed": 14,
     "status": "ok",
     "timestamp": 1671230073594,
     "user": {
      "displayName": "Arundhati Gorkhe",
      "userId": "04259180023704255453"
     },
     "user_tz": 300
    },
    "id": "4zlSOOa4EJHu"
   },
   "outputs": [],
   "source": [
    "train_df = train_df[train_df['target'] >= 0.20]"
   ]
  },
  {
   "cell_type": "code",
   "execution_count": 7,
   "metadata": {
    "colab": {
     "base_uri": "https://localhost:8080/"
    },
    "executionInfo": {
     "elapsed": 13,
     "status": "ok",
     "timestamp": 1671230073594,
     "user": {
      "displayName": "Arundhati Gorkhe",
      "userId": "04259180023704255453"
     },
     "user_tz": 300
    },
    "id": "O65GzN5VcCMM",
    "outputId": "56bcac3b-17e5-4414-dacd-9b8a5b427f6a"
   },
   "outputs": [
    {
     "name": "stdout",
     "output_type": "stream",
     "text": [
      "Number of non toxic comments: 41566\n",
      "Number of toxic comments: 25142\n"
     ]
    }
   ],
   "source": [
    "# the number of non toxic comments was more than 10 times the number of toxic comments, we have subsampled it to the following distribution\n",
    "print(\"Number of non toxic comments: \"+str(len(train_df[train_df[\"target\"] < 0.5])))\n",
    "print(\"Number of toxic comments: \"+str(len(train_df[train_df[\"target\"] >= 0.5])))"
   ]
  },
  {
   "cell_type": "code",
   "execution_count": 8,
   "metadata": {
    "colab": {
     "base_uri": "https://localhost:8080/"
    },
    "executionInfo": {
     "elapsed": 13,
     "status": "ok",
     "timestamp": 1671230073595,
     "user": {
      "displayName": "Arundhati Gorkhe",
      "userId": "04259180023704255453"
     },
     "user_tz": 300
    },
    "id": "EQkbVZxDcEkw",
    "outputId": "06495068-7a74-4196-f466-ecc3b8acb891"
   },
   "outputs": [],
   "source": [
    "train_df[\"prot_word_count\"][train_df[\"prot_word_count\"] > 0] = 1"
   ]
  },
  {
   "cell_type": "code",
   "execution_count": 9,
   "metadata": {
    "colab": {
     "base_uri": "https://localhost:8080/"
    },
    "executionInfo": {
     "elapsed": 238,
     "status": "ok",
     "timestamp": 1671230073825,
     "user": {
      "displayName": "Arundhati Gorkhe",
      "userId": "04259180023704255453"
     },
     "user_tz": 300
    },
    "id": "VZHBj7yIcGg4",
    "outputId": "abf253fb-456f-48c6-c1c2-994fd1ae57b4"
   },
   "outputs": [
    {
     "name": "stdout",
     "output_type": "stream",
     "text": [
      "Number of comments with bias inducing words not present: 28700\n",
      "Number of comments with bias inducing words present: 38008\n"
     ]
    }
   ],
   "source": [
    "print(\"Number of comments with bias inducing words not present: \" + str(len(train_df[train_df[\"prot_word_count\"] == 0])))\n",
    "print(\"Number of comments with bias inducing words present: \" + str(len(train_df[train_df[\"prot_word_count\"] == 1])))"
   ]
  },
  {
   "cell_type": "code",
   "execution_count": 10,
   "metadata": {
    "executionInfo": {
     "elapsed": 3,
     "status": "ok",
     "timestamp": 1671230073825,
     "user": {
      "displayName": "Arundhati Gorkhe",
      "userId": "04259180023704255453"
     },
     "user_tz": 300
    },
    "id": "8Xm7D4x0cIVs"
   },
   "outputs": [],
   "source": [
    "X = train_df[[\"comment_text\", \"prot_word_count\", \"edited_comment_text\"]]\n",
    "y = np.array(train_df['target'].apply(lambda x: x > .5).astype('int'))"
   ]
  },
  {
   "cell_type": "code",
   "execution_count": 11,
   "metadata": {},
   "outputs": [
    {
     "name": "stdout",
     "output_type": "stream",
     "text": [
      "66708\n"
     ]
    }
   ],
   "source": [
    "print(len(X))"
   ]
  },
  {
   "cell_type": "code",
   "execution_count": 12,
   "metadata": {},
   "outputs": [
    {
     "name": "stdout",
     "output_type": "stream",
     "text": [
      "66708\n"
     ]
    }
   ],
   "source": [
    "print(len(y))"
   ]
  },
  {
   "cell_type": "code",
   "execution_count": 13,
   "metadata": {
    "id": "Iaj8W0cmEUmp"
   },
   "outputs": [],
   "source": [
    "# Baseline models - Learning with Z"
   ]
  },
  {
   "cell_type": "code",
   "execution_count": 14,
   "metadata": {
    "id": "TfYQsPHEET0b"
   },
   "outputs": [],
   "source": [
    "from sklearn.feature_extraction.text import CountVectorizer\n",
    "vectorizer = CountVectorizer()\n",
    "Xvec = vectorizer.fit_transform(X['comment_text'])\n",
    "X_vect = pd.DataFrame(Xvec.todense(), columns=vectorizer.get_feature_names_out())"
   ]
  },
  {
   "cell_type": "code",
   "execution_count": 15,
   "metadata": {},
   "outputs": [
    {
     "data": {
      "text/html": [
       "<div>\n",
       "<style scoped>\n",
       "    .dataframe tbody tr th:only-of-type {\n",
       "        vertical-align: middle;\n",
       "    }\n",
       "\n",
       "    .dataframe tbody tr th {\n",
       "        vertical-align: top;\n",
       "    }\n",
       "\n",
       "    .dataframe thead th {\n",
       "        text-align: right;\n",
       "    }\n",
       "</style>\n",
       "<table border=\"1\" class=\"dataframe\">\n",
       "  <thead>\n",
       "    <tr style=\"text-align: right;\">\n",
       "      <th></th>\n",
       "      <th>aa</th>\n",
       "      <th>aaa</th>\n",
       "      <th>aaaaaa</th>\n",
       "      <th>aaaaaaahthe</th>\n",
       "      <th>aaaaannnd</th>\n",
       "      <th>aaaaarrrrgggghhhh</th>\n",
       "      <th>aaaaerrrthat</th>\n",
       "      <th>aaaand</th>\n",
       "      <th>aaaannndddstill</th>\n",
       "      <th>aaah</th>\n",
       "      <th>...</th>\n",
       "      <th>𝙚𝙖𝙧𝙩𝙝</th>\n",
       "      <th>𝙣𝙤</th>\n",
       "      <th>𝙩𝙝𝙚</th>\n",
       "      <th>𝙩𝙝𝙚𝙧𝙚</th>\n",
       "      <th>𝙪𝙣𝙩𝙞𝙡</th>\n",
       "      <th>𝙬𝙖𝙡𝙠𝙚𝙙</th>\n",
       "      <th>𝙬𝙚𝙧𝙚</th>\n",
       "      <th>𝙮𝙚𝙖𝙧𝙨</th>\n",
       "      <th>𝟒𝟔</th>\n",
       "      <th>𝟔𝟎𝟎</th>\n",
       "    </tr>\n",
       "  </thead>\n",
       "  <tbody>\n",
       "    <tr>\n",
       "      <th>0</th>\n",
       "      <td>0</td>\n",
       "      <td>0</td>\n",
       "      <td>0</td>\n",
       "      <td>0</td>\n",
       "      <td>0</td>\n",
       "      <td>0</td>\n",
       "      <td>0</td>\n",
       "      <td>0</td>\n",
       "      <td>0</td>\n",
       "      <td>0</td>\n",
       "      <td>...</td>\n",
       "      <td>0</td>\n",
       "      <td>0</td>\n",
       "      <td>0</td>\n",
       "      <td>0</td>\n",
       "      <td>0</td>\n",
       "      <td>0</td>\n",
       "      <td>0</td>\n",
       "      <td>0</td>\n",
       "      <td>0</td>\n",
       "      <td>0</td>\n",
       "    </tr>\n",
       "    <tr>\n",
       "      <th>1</th>\n",
       "      <td>0</td>\n",
       "      <td>0</td>\n",
       "      <td>0</td>\n",
       "      <td>0</td>\n",
       "      <td>0</td>\n",
       "      <td>0</td>\n",
       "      <td>0</td>\n",
       "      <td>0</td>\n",
       "      <td>0</td>\n",
       "      <td>0</td>\n",
       "      <td>...</td>\n",
       "      <td>0</td>\n",
       "      <td>0</td>\n",
       "      <td>0</td>\n",
       "      <td>0</td>\n",
       "      <td>0</td>\n",
       "      <td>0</td>\n",
       "      <td>0</td>\n",
       "      <td>0</td>\n",
       "      <td>0</td>\n",
       "      <td>0</td>\n",
       "    </tr>\n",
       "    <tr>\n",
       "      <th>2</th>\n",
       "      <td>0</td>\n",
       "      <td>0</td>\n",
       "      <td>0</td>\n",
       "      <td>0</td>\n",
       "      <td>0</td>\n",
       "      <td>0</td>\n",
       "      <td>0</td>\n",
       "      <td>0</td>\n",
       "      <td>0</td>\n",
       "      <td>0</td>\n",
       "      <td>...</td>\n",
       "      <td>0</td>\n",
       "      <td>0</td>\n",
       "      <td>0</td>\n",
       "      <td>0</td>\n",
       "      <td>0</td>\n",
       "      <td>0</td>\n",
       "      <td>0</td>\n",
       "      <td>0</td>\n",
       "      <td>0</td>\n",
       "      <td>0</td>\n",
       "    </tr>\n",
       "    <tr>\n",
       "      <th>3</th>\n",
       "      <td>0</td>\n",
       "      <td>0</td>\n",
       "      <td>0</td>\n",
       "      <td>0</td>\n",
       "      <td>0</td>\n",
       "      <td>0</td>\n",
       "      <td>0</td>\n",
       "      <td>0</td>\n",
       "      <td>0</td>\n",
       "      <td>0</td>\n",
       "      <td>...</td>\n",
       "      <td>0</td>\n",
       "      <td>0</td>\n",
       "      <td>0</td>\n",
       "      <td>0</td>\n",
       "      <td>0</td>\n",
       "      <td>0</td>\n",
       "      <td>0</td>\n",
       "      <td>0</td>\n",
       "      <td>0</td>\n",
       "      <td>0</td>\n",
       "    </tr>\n",
       "    <tr>\n",
       "      <th>4</th>\n",
       "      <td>0</td>\n",
       "      <td>0</td>\n",
       "      <td>0</td>\n",
       "      <td>0</td>\n",
       "      <td>0</td>\n",
       "      <td>0</td>\n",
       "      <td>0</td>\n",
       "      <td>0</td>\n",
       "      <td>0</td>\n",
       "      <td>0</td>\n",
       "      <td>...</td>\n",
       "      <td>0</td>\n",
       "      <td>0</td>\n",
       "      <td>0</td>\n",
       "      <td>0</td>\n",
       "      <td>0</td>\n",
       "      <td>0</td>\n",
       "      <td>0</td>\n",
       "      <td>0</td>\n",
       "      <td>0</td>\n",
       "      <td>0</td>\n",
       "    </tr>\n",
       "    <tr>\n",
       "      <th>...</th>\n",
       "      <td>...</td>\n",
       "      <td>...</td>\n",
       "      <td>...</td>\n",
       "      <td>...</td>\n",
       "      <td>...</td>\n",
       "      <td>...</td>\n",
       "      <td>...</td>\n",
       "      <td>...</td>\n",
       "      <td>...</td>\n",
       "      <td>...</td>\n",
       "      <td>...</td>\n",
       "      <td>...</td>\n",
       "      <td>...</td>\n",
       "      <td>...</td>\n",
       "      <td>...</td>\n",
       "      <td>...</td>\n",
       "      <td>...</td>\n",
       "      <td>...</td>\n",
       "      <td>...</td>\n",
       "      <td>...</td>\n",
       "      <td>...</td>\n",
       "    </tr>\n",
       "    <tr>\n",
       "      <th>66703</th>\n",
       "      <td>0</td>\n",
       "      <td>0</td>\n",
       "      <td>0</td>\n",
       "      <td>0</td>\n",
       "      <td>0</td>\n",
       "      <td>0</td>\n",
       "      <td>0</td>\n",
       "      <td>0</td>\n",
       "      <td>0</td>\n",
       "      <td>0</td>\n",
       "      <td>...</td>\n",
       "      <td>0</td>\n",
       "      <td>0</td>\n",
       "      <td>0</td>\n",
       "      <td>0</td>\n",
       "      <td>0</td>\n",
       "      <td>0</td>\n",
       "      <td>0</td>\n",
       "      <td>0</td>\n",
       "      <td>0</td>\n",
       "      <td>0</td>\n",
       "    </tr>\n",
       "    <tr>\n",
       "      <th>66704</th>\n",
       "      <td>0</td>\n",
       "      <td>0</td>\n",
       "      <td>0</td>\n",
       "      <td>0</td>\n",
       "      <td>0</td>\n",
       "      <td>0</td>\n",
       "      <td>0</td>\n",
       "      <td>0</td>\n",
       "      <td>0</td>\n",
       "      <td>0</td>\n",
       "      <td>...</td>\n",
       "      <td>0</td>\n",
       "      <td>0</td>\n",
       "      <td>0</td>\n",
       "      <td>0</td>\n",
       "      <td>0</td>\n",
       "      <td>0</td>\n",
       "      <td>0</td>\n",
       "      <td>0</td>\n",
       "      <td>0</td>\n",
       "      <td>0</td>\n",
       "    </tr>\n",
       "    <tr>\n",
       "      <th>66705</th>\n",
       "      <td>0</td>\n",
       "      <td>0</td>\n",
       "      <td>0</td>\n",
       "      <td>0</td>\n",
       "      <td>0</td>\n",
       "      <td>0</td>\n",
       "      <td>0</td>\n",
       "      <td>0</td>\n",
       "      <td>0</td>\n",
       "      <td>0</td>\n",
       "      <td>...</td>\n",
       "      <td>0</td>\n",
       "      <td>0</td>\n",
       "      <td>0</td>\n",
       "      <td>0</td>\n",
       "      <td>0</td>\n",
       "      <td>0</td>\n",
       "      <td>0</td>\n",
       "      <td>0</td>\n",
       "      <td>0</td>\n",
       "      <td>0</td>\n",
       "    </tr>\n",
       "    <tr>\n",
       "      <th>66706</th>\n",
       "      <td>0</td>\n",
       "      <td>0</td>\n",
       "      <td>0</td>\n",
       "      <td>0</td>\n",
       "      <td>0</td>\n",
       "      <td>0</td>\n",
       "      <td>0</td>\n",
       "      <td>0</td>\n",
       "      <td>0</td>\n",
       "      <td>0</td>\n",
       "      <td>...</td>\n",
       "      <td>0</td>\n",
       "      <td>0</td>\n",
       "      <td>0</td>\n",
       "      <td>0</td>\n",
       "      <td>0</td>\n",
       "      <td>0</td>\n",
       "      <td>0</td>\n",
       "      <td>0</td>\n",
       "      <td>0</td>\n",
       "      <td>0</td>\n",
       "    </tr>\n",
       "    <tr>\n",
       "      <th>66707</th>\n",
       "      <td>0</td>\n",
       "      <td>0</td>\n",
       "      <td>0</td>\n",
       "      <td>0</td>\n",
       "      <td>0</td>\n",
       "      <td>0</td>\n",
       "      <td>0</td>\n",
       "      <td>0</td>\n",
       "      <td>0</td>\n",
       "      <td>0</td>\n",
       "      <td>...</td>\n",
       "      <td>0</td>\n",
       "      <td>0</td>\n",
       "      <td>0</td>\n",
       "      <td>0</td>\n",
       "      <td>0</td>\n",
       "      <td>0</td>\n",
       "      <td>0</td>\n",
       "      <td>0</td>\n",
       "      <td>0</td>\n",
       "      <td>0</td>\n",
       "    </tr>\n",
       "  </tbody>\n",
       "</table>\n",
       "<p>66708 rows × 80252 columns</p>\n",
       "</div>"
      ],
      "text/plain": [
       "       aa  aaa  aaaaaa  aaaaaaahthe  aaaaannnd  aaaaarrrrgggghhhh  \\\n",
       "0       0    0       0            0          0                  0   \n",
       "1       0    0       0            0          0                  0   \n",
       "2       0    0       0            0          0                  0   \n",
       "3       0    0       0            0          0                  0   \n",
       "4       0    0       0            0          0                  0   \n",
       "...    ..  ...     ...          ...        ...                ...   \n",
       "66703   0    0       0            0          0                  0   \n",
       "66704   0    0       0            0          0                  0   \n",
       "66705   0    0       0            0          0                  0   \n",
       "66706   0    0       0            0          0                  0   \n",
       "66707   0    0       0            0          0                  0   \n",
       "\n",
       "       aaaaerrrthat  aaaand  aaaannndddstill  aaah  ...  𝙚𝙖𝙧𝙩𝙝  𝙣𝙤  𝙩𝙝𝙚  \\\n",
       "0                 0       0                0     0  ...      0   0    0   \n",
       "1                 0       0                0     0  ...      0   0    0   \n",
       "2                 0       0                0     0  ...      0   0    0   \n",
       "3                 0       0                0     0  ...      0   0    0   \n",
       "4                 0       0                0     0  ...      0   0    0   \n",
       "...             ...     ...              ...   ...  ...    ...  ..  ...   \n",
       "66703             0       0                0     0  ...      0   0    0   \n",
       "66704             0       0                0     0  ...      0   0    0   \n",
       "66705             0       0                0     0  ...      0   0    0   \n",
       "66706             0       0                0     0  ...      0   0    0   \n",
       "66707             0       0                0     0  ...      0   0    0   \n",
       "\n",
       "       𝙩𝙝𝙚𝙧𝙚  𝙪𝙣𝙩𝙞𝙡  𝙬𝙖𝙡𝙠𝙚𝙙  𝙬𝙚𝙧𝙚  𝙮𝙚𝙖𝙧𝙨  𝟒𝟔  𝟔𝟎𝟎  \n",
       "0          0      0       0     0      0   0    0  \n",
       "1          0      0       0     0      0   0    0  \n",
       "2          0      0       0     0      0   0    0  \n",
       "3          0      0       0     0      0   0    0  \n",
       "4          0      0       0     0      0   0    0  \n",
       "...      ...    ...     ...   ...    ...  ..  ...  \n",
       "66703      0      0       0     0      0   0    0  \n",
       "66704      0      0       0     0      0   0    0  \n",
       "66705      0      0       0     0      0   0    0  \n",
       "66706      0      0       0     0      0   0    0  \n",
       "66707      0      0       0     0      0   0    0  \n",
       "\n",
       "[66708 rows x 80252 columns]"
      ]
     },
     "execution_count": 15,
     "metadata": {},
     "output_type": "execute_result"
    }
   ],
   "source": [
    "X_vect"
   ]
  },
  {
   "cell_type": "code",
   "execution_count": 16,
   "metadata": {},
   "outputs": [],
   "source": [
    "prot_attr = ['transgendered', 'sex', 'bigotry', 'racist', 'muslim', 'racism', 'priest', 'black', 'sexual', 'latino', 'man', 'islam', 'gay', 'men', 'straight', 'transgender', 'homosexual', 'jewish', 'catholic', 'heterosexual', 'women', 'church', 'religious', 'military', 'asian', 'hindu', 'buddhist', 'religion', 'atheist', 'white', 'chinese', 'male', 'christian', 'race', 'bisexual', 'jew', 'woman']"
   ]
  },
  {
   "cell_type": "code",
   "execution_count": null,
   "metadata": {
    "id": "xKtto2Z_pMe0"
   },
   "outputs": [],
   "source": [
    "word_counts = {}\n",
    "cols_to_drop = []\n",
    "for i in list(X_vect.columns):\n",
    "  X_vect[i][X_vect[i] > 0] = 1\n",
    "  col_total = X_vect[i].sum()\n",
    "  word_counts[i] = col_total\n",
    "  if col_total < 11:\n",
    "    cols_to_drop.append(i)\n",
    "\n",
    "print(\"colstodrop\",len(cols_to_drop))\n",
    "print(\"orig_cols\",len(X_vect.columns))\n",
    "X_vect.drop(cols_to_drop, axis=1, inplace = True)\n",
    "print(\"new_cols\",len(X_vect.columns))"
   ]
  },
  {
   "cell_type": "code",
   "execution_count": null,
   "metadata": {},
   "outputs": [],
   "source": [
    "print(len(X_vect))"
   ]
  },
  {
   "cell_type": "code",
   "execution_count": null,
   "metadata": {},
   "outputs": [],
   "source": [
    "train_df['result'] = train_df['target'].apply(lambda x: x > .5).astype('int')"
   ]
  },
  {
   "cell_type": "code",
   "execution_count": null,
   "metadata": {},
   "outputs": [],
   "source": [
    "train_df.to_csv(\"train_df.csv\")"
   ]
  },
  {
   "cell_type": "code",
   "execution_count": 15,
   "metadata": {
    "colab": {
     "base_uri": "https://localhost:8080/",
     "height": 164
    },
    "executionInfo": {
     "elapsed": 226,
     "status": "error",
     "timestamp": 1671229996249,
     "user": {
      "displayName": "Arundhati Gorkhe",
      "userId": "04259180023704255453"
     },
     "user_tz": 300
    },
    "id": "V0gh54ejpOgw",
    "outputId": "7a9aed8e-f62b-4ce2-ff15-44fba8d6769e"
   },
   "outputs": [],
   "source": [
    "X_train, X_test, y_train, y_test = train_test_split(X_vect, y, test_size=.4, stratify = y)"
   ]
  },
  {
   "cell_type": "code",
   "execution_count": 14,
   "metadata": {},
   "outputs": [],
   "source": [
    "X_vect.to_csv(\"X_vect.csv\")"
   ]
  },
  {
   "cell_type": "code",
   "execution_count": 16,
   "metadata": {
    "colab": {
     "base_uri": "https://localhost:8080/"
    },
    "executionInfo": {
     "elapsed": 1455,
     "status": "ok",
     "timestamp": 1671222981520,
     "user": {
      "displayName": "Arunima Sundar",
      "userId": "06679868028950565332"
     },
     "user_tz": 300
    },
    "id": "fTuxTVCofHvO",
    "outputId": "a9b3fe4b-df8b-4a96-af64-db67542d4859"
   },
   "outputs": [
    {
     "name": "stderr",
     "output_type": "stream",
     "text": [
      "/usr/local/lib/python3.8/site-packages/sklearn/linear_model/_logistic.py:444: ConvergenceWarning: lbfgs failed to converge (status=1):\n",
      "STOP: TOTAL NO. of ITERATIONS REACHED LIMIT.\n",
      "\n",
      "Increase the number of iterations (max_iter) or scale the data as shown in:\n",
      "    https://scikit-learn.org/stable/modules/preprocessing.html\n",
      "Please also refer to the documentation for alternative solver options:\n",
      "    https://scikit-learn.org/stable/modules/linear_model.html#logistic-regression\n",
      "  n_iter_i = _check_optimize_result(\n"
     ]
    },
    {
     "data": {
      "text/html": [
       "<style>#sk-container-id-1 {color: black;background-color: white;}#sk-container-id-1 pre{padding: 0;}#sk-container-id-1 div.sk-toggleable {background-color: white;}#sk-container-id-1 label.sk-toggleable__label {cursor: pointer;display: block;width: 100%;margin-bottom: 0;padding: 0.3em;box-sizing: border-box;text-align: center;}#sk-container-id-1 label.sk-toggleable__label-arrow:before {content: \"▸\";float: left;margin-right: 0.25em;color: #696969;}#sk-container-id-1 label.sk-toggleable__label-arrow:hover:before {color: black;}#sk-container-id-1 div.sk-estimator:hover label.sk-toggleable__label-arrow:before {color: black;}#sk-container-id-1 div.sk-toggleable__content {max-height: 0;max-width: 0;overflow: hidden;text-align: left;background-color: #f0f8ff;}#sk-container-id-1 div.sk-toggleable__content pre {margin: 0.2em;color: black;border-radius: 0.25em;background-color: #f0f8ff;}#sk-container-id-1 input.sk-toggleable__control:checked~div.sk-toggleable__content {max-height: 200px;max-width: 100%;overflow: auto;}#sk-container-id-1 input.sk-toggleable__control:checked~label.sk-toggleable__label-arrow:before {content: \"▾\";}#sk-container-id-1 div.sk-estimator input.sk-toggleable__control:checked~label.sk-toggleable__label {background-color: #d4ebff;}#sk-container-id-1 div.sk-label input.sk-toggleable__control:checked~label.sk-toggleable__label {background-color: #d4ebff;}#sk-container-id-1 input.sk-hidden--visually {border: 0;clip: rect(1px 1px 1px 1px);clip: rect(1px, 1px, 1px, 1px);height: 1px;margin: -1px;overflow: hidden;padding: 0;position: absolute;width: 1px;}#sk-container-id-1 div.sk-estimator {font-family: monospace;background-color: #f0f8ff;border: 1px dotted black;border-radius: 0.25em;box-sizing: border-box;margin-bottom: 0.5em;}#sk-container-id-1 div.sk-estimator:hover {background-color: #d4ebff;}#sk-container-id-1 div.sk-parallel-item::after {content: \"\";width: 100%;border-bottom: 1px solid gray;flex-grow: 1;}#sk-container-id-1 div.sk-label:hover label.sk-toggleable__label {background-color: #d4ebff;}#sk-container-id-1 div.sk-serial::before {content: \"\";position: absolute;border-left: 1px solid gray;box-sizing: border-box;top: 0;bottom: 0;left: 50%;z-index: 0;}#sk-container-id-1 div.sk-serial {display: flex;flex-direction: column;align-items: center;background-color: white;padding-right: 0.2em;padding-left: 0.2em;position: relative;}#sk-container-id-1 div.sk-item {position: relative;z-index: 1;}#sk-container-id-1 div.sk-parallel {display: flex;align-items: stretch;justify-content: center;background-color: white;position: relative;}#sk-container-id-1 div.sk-item::before, #sk-container-id-1 div.sk-parallel-item::before {content: \"\";position: absolute;border-left: 1px solid gray;box-sizing: border-box;top: 0;bottom: 0;left: 50%;z-index: -1;}#sk-container-id-1 div.sk-parallel-item {display: flex;flex-direction: column;z-index: 1;position: relative;background-color: white;}#sk-container-id-1 div.sk-parallel-item:first-child::after {align-self: flex-end;width: 50%;}#sk-container-id-1 div.sk-parallel-item:last-child::after {align-self: flex-start;width: 50%;}#sk-container-id-1 div.sk-parallel-item:only-child::after {width: 0;}#sk-container-id-1 div.sk-dashed-wrapped {border: 1px dashed gray;margin: 0 0.4em 0.5em 0.4em;box-sizing: border-box;padding-bottom: 0.4em;background-color: white;}#sk-container-id-1 div.sk-label label {font-family: monospace;font-weight: bold;display: inline-block;line-height: 1.2em;}#sk-container-id-1 div.sk-label-container {text-align: center;}#sk-container-id-1 div.sk-container {/* jupyter's `normalize.less` sets `[hidden] { display: none; }` but bootstrap.min.css set `[hidden] { display: none !important; }` so we also need the `!important` here to be able to override the default hidden behavior on the sphinx rendered scikit-learn.org. See: https://github.com/scikit-learn/scikit-learn/issues/21755 */display: inline-block !important;position: relative;}#sk-container-id-1 div.sk-text-repr-fallback {display: none;}</style><div id=\"sk-container-id-1\" class=\"sk-top-container\"><div class=\"sk-text-repr-fallback\"><pre>LogisticRegression()</pre><b>In a Jupyter environment, please rerun this cell to show the HTML representation or trust the notebook. <br />On GitHub, the HTML representation is unable to render, please try loading this page with nbviewer.org.</b></div><div class=\"sk-container\" hidden><div class=\"sk-item\"><div class=\"sk-estimator sk-toggleable\"><input class=\"sk-toggleable__control sk-hidden--visually\" id=\"sk-estimator-id-1\" type=\"checkbox\" checked><label for=\"sk-estimator-id-1\" class=\"sk-toggleable__label sk-toggleable__label-arrow\">LogisticRegression</label><div class=\"sk-toggleable__content\"><pre>LogisticRegression()</pre></div></div></div></div></div>"
      ],
      "text/plain": [
       "LogisticRegression()"
      ]
     },
     "execution_count": 16,
     "metadata": {},
     "output_type": "execute_result"
    }
   ],
   "source": [
    "from sklearn.linear_model import LogisticRegression\n",
    "# Fitting a simple Logistic Regression on tf-idf\n",
    "lr = LogisticRegression()\n",
    "lr.fit(X_train, y_train)"
   ]
  },
  {
   "cell_type": "code",
   "execution_count": null,
   "metadata": {
    "colab": {
     "base_uri": "https://localhost:8080/"
    },
    "executionInfo": {
     "elapsed": 313,
     "status": "ok",
     "timestamp": 1671222989539,
     "user": {
      "displayName": "Arunima Sundar",
      "userId": "06679868028950565332"
     },
     "user_tz": 300
    },
    "id": "TjVg_ZDIlVYy",
    "outputId": "54b9c19f-7ff4-49a5-93c5-fb722def722f"
   },
   "outputs": [
    {
     "name": "stdout",
     "output_type": "stream",
     "text": [
      "Accuracy: 0.755\n"
     ]
    }
   ],
   "source": [
    "print(\"Accuracy: \"+str(lr.score(X_test, y_test)))\n",
    "y_preds = lr.predict(X_test)\n"
   ]
  },
  {
   "cell_type": "code",
   "execution_count": 18,
   "metadata": {
    "id": "2PHvAU0mlsuW"
   },
   "outputs": [],
   "source": [
    "coeffs_ml_with_z = pd.DataFrame({\"Feature\" : X_vect.columns.tolist(),\"Coefficients\" : lr.coef_[0]})"
   ]
  },
  {
   "cell_type": "code",
   "execution_count": 21,
   "metadata": {
    "id": "DFjHFGF3smKJ"
   },
   "outputs": [],
   "source": [
    "prot_attr = ['transgendered', 'sex', 'bigotry', 'racist', 'muslim', 'racism', 'priest', 'black', 'sexual', 'latino', 'man', 'islam', 'gay', 'men', 'straight', 'transgender', 'homosexual', 'jewish', 'catholic', 'heterosexual', 'women', 'church', 'religious', 'military', 'asian', 'hindu', 'buddhist', 'religion', 'atheist', 'white', 'chinese', 'male', 'christian', 'race', 'bisexual', 'jew', 'woman']"
   ]
  },
  {
   "cell_type": "code",
   "execution_count": 23,
   "metadata": {},
   "outputs": [
    {
     "data": {
      "text/html": [
       "<div>\n",
       "<style scoped>\n",
       "    .dataframe tbody tr th:only-of-type {\n",
       "        vertical-align: middle;\n",
       "    }\n",
       "\n",
       "    .dataframe tbody tr th {\n",
       "        vertical-align: top;\n",
       "    }\n",
       "\n",
       "    .dataframe thead th {\n",
       "        text-align: right;\n",
       "    }\n",
       "</style>\n",
       "<table border=\"1\" class=\"dataframe\">\n",
       "  <thead>\n",
       "    <tr style=\"text-align: right;\">\n",
       "      <th></th>\n",
       "      <th>Feature</th>\n",
       "      <th>Coefficients</th>\n",
       "    </tr>\n",
       "  </thead>\n",
       "  <tbody>\n",
       "    <tr>\n",
       "      <th>770</th>\n",
       "      <td>asian</td>\n",
       "      <td>-0.120542</td>\n",
       "    </tr>\n",
       "    <tr>\n",
       "      <th>848</th>\n",
       "      <td>atheist</td>\n",
       "      <td>0.542007</td>\n",
       "    </tr>\n",
       "    <tr>\n",
       "      <th>1255</th>\n",
       "      <td>bigotry</td>\n",
       "      <td>0.142672</td>\n",
       "    </tr>\n",
       "    <tr>\n",
       "      <th>1290</th>\n",
       "      <td>bisexual</td>\n",
       "      <td>-0.516810</td>\n",
       "    </tr>\n",
       "    <tr>\n",
       "      <th>1306</th>\n",
       "      <td>black</td>\n",
       "      <td>0.852846</td>\n",
       "    </tr>\n",
       "    <tr>\n",
       "      <th>1589</th>\n",
       "      <td>buddhist</td>\n",
       "      <td>1.585038</td>\n",
       "    </tr>\n",
       "    <tr>\n",
       "      <th>1839</th>\n",
       "      <td>catholic</td>\n",
       "      <td>-0.194096</td>\n",
       "    </tr>\n",
       "    <tr>\n",
       "      <th>2038</th>\n",
       "      <td>chinese</td>\n",
       "      <td>0.442887</td>\n",
       "    </tr>\n",
       "    <tr>\n",
       "      <th>2059</th>\n",
       "      <td>christian</td>\n",
       "      <td>-0.058949</td>\n",
       "    </tr>\n",
       "    <tr>\n",
       "      <th>2076</th>\n",
       "      <td>church</td>\n",
       "      <td>-0.037630</td>\n",
       "    </tr>\n",
       "    <tr>\n",
       "      <th>5138</th>\n",
       "      <td>gay</td>\n",
       "      <td>1.174286</td>\n",
       "    </tr>\n",
       "    <tr>\n",
       "      <th>5696</th>\n",
       "      <td>heterosexual</td>\n",
       "      <td>0.015186</td>\n",
       "    </tr>\n",
       "    <tr>\n",
       "      <th>5740</th>\n",
       "      <td>hindu</td>\n",
       "      <td>-0.163619</td>\n",
       "    </tr>\n",
       "    <tr>\n",
       "      <th>5821</th>\n",
       "      <td>homosexual</td>\n",
       "      <td>1.303390</td>\n",
       "    </tr>\n",
       "    <tr>\n",
       "      <th>6564</th>\n",
       "      <td>islam</td>\n",
       "      <td>0.535559</td>\n",
       "    </tr>\n",
       "    <tr>\n",
       "      <th>6655</th>\n",
       "      <td>jew</td>\n",
       "      <td>0.437911</td>\n",
       "    </tr>\n",
       "    <tr>\n",
       "      <th>6658</th>\n",
       "      <td>jewish</td>\n",
       "      <td>-0.024356</td>\n",
       "    </tr>\n",
       "    <tr>\n",
       "      <th>6956</th>\n",
       "      <td>latino</td>\n",
       "      <td>0.072624</td>\n",
       "    </tr>\n",
       "    <tr>\n",
       "      <th>7403</th>\n",
       "      <td>male</td>\n",
       "      <td>-0.111429</td>\n",
       "    </tr>\n",
       "    <tr>\n",
       "      <th>7415</th>\n",
       "      <td>man</td>\n",
       "      <td>0.182173</td>\n",
       "    </tr>\n",
       "    <tr>\n",
       "      <th>7643</th>\n",
       "      <td>men</td>\n",
       "      <td>0.041527</td>\n",
       "    </tr>\n",
       "    <tr>\n",
       "      <th>7716</th>\n",
       "      <td>military</td>\n",
       "      <td>-0.010726</td>\n",
       "    </tr>\n",
       "    <tr>\n",
       "      <th>8023</th>\n",
       "      <td>muslim</td>\n",
       "      <td>0.506264</td>\n",
       "    </tr>\n",
       "    <tr>\n",
       "      <th>9491</th>\n",
       "      <td>priest</td>\n",
       "      <td>-0.228756</td>\n",
       "    </tr>\n",
       "    <tr>\n",
       "      <th>9890</th>\n",
       "      <td>race</td>\n",
       "      <td>0.113379</td>\n",
       "    </tr>\n",
       "    <tr>\n",
       "      <th>9897</th>\n",
       "      <td>racism</td>\n",
       "      <td>0.004636</td>\n",
       "    </tr>\n",
       "    <tr>\n",
       "      <th>9898</th>\n",
       "      <td>racist</td>\n",
       "      <td>0.825652</td>\n",
       "    </tr>\n",
       "    <tr>\n",
       "      <th>10217</th>\n",
       "      <td>religion</td>\n",
       "      <td>-0.041887</td>\n",
       "    </tr>\n",
       "    <tr>\n",
       "      <th>10219</th>\n",
       "      <td>religious</td>\n",
       "      <td>-0.128691</td>\n",
       "    </tr>\n",
       "    <tr>\n",
       "      <th>11065</th>\n",
       "      <td>sex</td>\n",
       "      <td>0.964572</td>\n",
       "    </tr>\n",
       "    <tr>\n",
       "      <th>11070</th>\n",
       "      <td>sexual</td>\n",
       "      <td>0.381507</td>\n",
       "    </tr>\n",
       "    <tr>\n",
       "      <th>11831</th>\n",
       "      <td>straight</td>\n",
       "      <td>-0.306668</td>\n",
       "    </tr>\n",
       "    <tr>\n",
       "      <th>12612</th>\n",
       "      <td>transgender</td>\n",
       "      <td>-0.167541</td>\n",
       "    </tr>\n",
       "    <tr>\n",
       "      <th>12613</th>\n",
       "      <td>transgendered</td>\n",
       "      <td>0.469626</td>\n",
       "    </tr>\n",
       "    <tr>\n",
       "      <th>13464</th>\n",
       "      <td>white</td>\n",
       "      <td>0.613769</td>\n",
       "    </tr>\n",
       "    <tr>\n",
       "      <th>13576</th>\n",
       "      <td>woman</td>\n",
       "      <td>0.011402</td>\n",
       "    </tr>\n",
       "    <tr>\n",
       "      <th>13582</th>\n",
       "      <td>women</td>\n",
       "      <td>-0.064707</td>\n",
       "    </tr>\n",
       "  </tbody>\n",
       "</table>\n",
       "</div>"
      ],
      "text/plain": [
       "             Feature  Coefficients\n",
       "770            asian     -0.120542\n",
       "848          atheist      0.542007\n",
       "1255         bigotry      0.142672\n",
       "1290        bisexual     -0.516810\n",
       "1306           black      0.852846\n",
       "1589        buddhist      1.585038\n",
       "1839        catholic     -0.194096\n",
       "2038         chinese      0.442887\n",
       "2059       christian     -0.058949\n",
       "2076          church     -0.037630\n",
       "5138             gay      1.174286\n",
       "5696    heterosexual      0.015186\n",
       "5740           hindu     -0.163619\n",
       "5821      homosexual      1.303390\n",
       "6564           islam      0.535559\n",
       "6655             jew      0.437911\n",
       "6658          jewish     -0.024356\n",
       "6956          latino      0.072624\n",
       "7403            male     -0.111429\n",
       "7415             man      0.182173\n",
       "7643             men      0.041527\n",
       "7716        military     -0.010726\n",
       "8023          muslim      0.506264\n",
       "9491          priest     -0.228756\n",
       "9890            race      0.113379\n",
       "9897          racism      0.004636\n",
       "9898          racist      0.825652\n",
       "10217       religion     -0.041887\n",
       "10219      religious     -0.128691\n",
       "11065            sex      0.964572\n",
       "11070         sexual      0.381507\n",
       "11831       straight     -0.306668\n",
       "12612    transgender     -0.167541\n",
       "12613  transgendered      0.469626\n",
       "13464          white      0.613769\n",
       "13576          woman      0.011402\n",
       "13582          women     -0.064707"
      ]
     },
     "execution_count": 23,
     "metadata": {},
     "output_type": "execute_result"
    }
   ],
   "source": [
    "coeffs_ml_with_z[coeffs_ml_with_z['Feature'].isin(prot_attr)]"
   ]
  },
  {
   "cell_type": "code",
   "execution_count": 27,
   "metadata": {},
   "outputs": [],
   "source": [
    "res = coeffs_ml_with_z[coeffs_ml_with_z['Feature'].isin(prot_attr)]\n",
    "res.to_csv(\"coeffs_baseline_lr.csv\")"
   ]
  },
  {
   "cell_type": "code",
   "execution_count": 26,
   "metadata": {},
   "outputs": [
    {
     "data": {
      "text/plain": [
       "{'religion': 0.20990736801478974,\n",
       " 'race': 0.2827997845558042,\n",
       " 'gender': -0.05647582212934848,\n",
       " 'sexual_identity': 0.43078027628355364,\n",
       " 'misc': 0.06597298218433253}"
      ]
     },
     "execution_count": 26,
     "metadata": {},
     "output_type": "execute_result"
    }
   ],
   "source": [
    "groups = {\n",
    "'religion' : ['religion', 'religious', 'atheist', 'buddhist', 'christian', 'hindu', 'jewish', 'muslim', 'catholic', 'church', 'islam', 'jew', 'priest'],\n",
    "'race' : ['asian', 'black', 'latino', 'white', 'chinese', 'race', 'racism'],\n",
    "'gender' : ['female', 'male', 'transgender', 'man', 'men', 'trangendered', 'woman', 'women'],\n",
    "'sexual_identity' : ['bisexual', 'heterosexual', 'gay', 'homosexual', 'sex', 'sexual', 'straight' ],\n",
    "'misc' : ['bigotry', 'military']\n",
    "}\n",
    "\n",
    "avg_coeffs = {}\n",
    "\n",
    "for group in groups:\n",
    "    avg_coeff = np.mean(np.array(coeffs_ml_with_z[coeffs_ml_with_z['Feature'].isin(groups[group])]['Coefficients']))\n",
    "    avg_coeffs[group] = avg_coeff\n",
    "\n",
    "avg_coeffs\n",
    "    "
   ]
  },
  {
   "cell_type": "code",
   "execution_count": null,
   "metadata": {},
   "outputs": [],
   "source": []
  }
 ],
 "metadata": {
  "accelerator": "GPU",
  "colab": {
   "provenance": [
    {
     "file_id": "1oL_JGQgye-GwTnTGF4e1ThQjUoVJl1qy",
     "timestamp": 1671229631807
    }
   ]
  },
  "gpuClass": "standard",
  "kernelspec": {
   "display_name": "Python 3",
   "language": "python",
   "name": "python3"
  },
  "language_info": {
   "codemirror_mode": {
    "name": "ipython",
    "version": 3
   },
   "file_extension": ".py",
   "mimetype": "text/x-python",
   "name": "python",
   "nbconvert_exporter": "python",
   "pygments_lexer": "ipython3",
   "version": "3.8.5"
  }
 },
 "nbformat": 4,
 "nbformat_minor": 1
}
